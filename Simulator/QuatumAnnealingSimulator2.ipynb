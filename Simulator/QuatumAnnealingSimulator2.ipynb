{
 "cells": [
  {
   "cell_type": "code",
   "execution_count": 1,
   "metadata": {},
   "outputs": [
    {
     "name": "stdout",
     "output_type": "stream",
     "text": [
      "[ 0.78788065 -1.41024972  2.70693274 -0.29360192 -0.53131859  2.46220532\n",
      "  0.80950015 -1.30104628  1.01967858  1.5880319  -0.2967759   0.88375118\n",
      " -1.21995075 -2.18766658  0.6488387   2.47365149  2.21807785  0.5604765\n",
      "  1.61499772 -1.55602478  1.11772805  2.6643443  -0.6139178   0.04673462\n",
      " -0.65931683 -6.44307252  0.14374199 -0.50380879  0.41617738  2.97736788\n",
      " -0.00801807 -4.44154465]\n"
     ]
    }
   ],
   "source": [
    "import numpy as np\n",
    "\n",
    "# set problem size\n",
    "N = 5\n",
    "#Tau = 1\n",
    "E = np.random.normal(0, scale=N/2, size=2**N)\n",
    "idx_min = np.argmin(E)\n",
    "\n",
    "print(E)\n",
    "\n",
    "# B(t): arbitary function\n",
    "def scheduleE(time):\n",
    "    return time/Tau\n",
    "\n",
    "# A(t): arbitary function\n",
    "def scheduleG(time):\n",
    "    return (Tau - time)/Tau\n",
    "\n",
    "# generate differential equation\n",
    "def generate_diffeq(idx, offdiag_indices, time, vec):\n",
    "    v = E[idx]*scheduleE(time)\n",
    "    g = -1*scheduleG(time)\n",
    "    return v*vec[idx] + g*np.sum(vec[offdiag_indices])\n",
    "\n",
    "diffeq_array = [lambda vec, t, _i=i, _ij=np.array([i ^ (1 << n) for n in range(N)]):\n",
    "               generate_diffeq(_i, _ij, t, vec) for i in range(2**N)]\n",
    "\n",
    "def simdiffeq_rhs(t, vec):\n",
    "    return np.array([-1j*f(vec, t) for f in diffeq_array], dtype=np.complex_)"
   ]
  },
  {
   "cell_type": "code",
   "execution_count": 2,
   "metadata": {},
   "outputs": [
    {
     "name": "stderr",
     "output_type": "stream",
     "text": [
      "/usr/local/lib/python3.8/site-packages/scipy/integrate/_ode.py:1011: UserWarning: vode: Excess work done on this call. (Perhaps wrong MF.)\n",
      "  warnings.warn('{:s}: {:s}'.format(self.__class__.__name__,\n"
     ]
    }
   ],
   "source": [
    "from scipy.integrate import complex_ode\n",
    "\n",
    "vec0 = np.array([2**(-N/2)] * 2**N, dtype=np.complex_)\n",
    "result_tau = []\n",
    "Taus = [1 / 4, 1 / 2, 1, 2, 3, 4, 6, 8, 12, 16, 24, 32, 48, 64, 96, 128, 192, 256, 384, 512, 768, 1024, 1536, 2048, 3072, 4096]\n",
    "for Tau in Taus:\n",
    "    r = complex_ode(simdiffeq_rhs)\n",
    "    r.set_initial_value(vec0)\n",
    "\n",
    "    steps = 100\n",
    "    i = 0\n",
    "    t = 0\n",
    "    while r.successful() and i <= steps:\n",
    "        v = r.integrate(t) if t != 0 else vec0\n",
    "    \n",
    "        t += Tau/steps\n",
    "        i += 1\n",
    "    \n",
    "    #print(Tau, abs(v[idx_min])**2)\n",
    "    result_tau.append(abs(v[idx_min])**2)"
   ]
  },
  {
   "cell_type": "code",
   "execution_count": 3,
   "metadata": {},
   "outputs": [
    {
     "data": {
      "image/png": "[encoded data removed]",
      "text/plain": [
       "<Figure size 432x288 with 1 Axes>"
      ]
     },
     "metadata": {
      "needs_background": "light"
     },
     "output_type": "display_data"
    }
   ],
   "source": [
    "import matplotlib.pyplot as plt\n",
    "\n",
    "Taus_str = [str(Tau) for Tau in Taus]\n",
    "\n",
    "fig = plt.figure()\n",
    "ax = fig.add_subplot(1, 1, 1)\n",
    "\n",
    "ax.scatter(Taus, result_tau)\n",
    "ax.set_title('Correlation of Tau and Probability')\n",
    "ax.set_xlabel('Tau')\n",
    "ax.set_ylabel('Probability')\n",
    "ax.set_xscale('log', base=2)\n",
    "ax.grid()\n",
    "\n",
    "fig.savefig('CorrelationOfTauAndProbability.png')\n",
    "plt.show()"
   ]
  },
  {
   "cell_type": "code",
   "execution_count": null,
   "metadata": {},
   "outputs": [],
   "source": []
  }
 ],
 "metadata": {
  "kernelspec": {
   "display_name": "Python 3",
   "language": "python",
   "name": "python3"
  },
  "language_info": {
   "codemirror_mode": {
    "name": "ipython",
    "version": 3
   },
   "file_extension": ".py",
   "mimetype": "text/x-python",
   "name": "python",
   "nbconvert_exporter": "python",
   "pygments_lexer": "ipython3",
   "version": "3.8.5"
  }
 },
 "nbformat": 4,
 "nbformat_minor": 4
}
